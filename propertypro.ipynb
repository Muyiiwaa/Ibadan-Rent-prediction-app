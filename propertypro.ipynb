{
 "cells": [
  {
   "cell_type": "code",
   "execution_count": 3,
   "id": "9b238d63",
   "metadata": {},
   "outputs": [],
   "source": [
    "from bs4 import BeautifulSoup\n",
    "import requests,re\n",
    "import csv\n",
    "import pandas as pd\n",
    "import numpy as np"
   ]
  },
  {
   "cell_type": "code",
   "execution_count": 4,
   "id": "658e0fbb",
   "metadata": {},
   "outputs": [],
   "source": [
    "url = 'https://www.propertypro.ng/property-for-rent/in/oyo/ibadan?search=&auto=&type=&bedroom=&min_price=&max_price='"
   ]
  },
  {
   "cell_type": "code",
   "execution_count": 5,
   "id": "c2083be9",
   "metadata": {},
   "outputs": [
    {
     "data": {
      "text/plain": [
       "<Response [200]>"
      ]
     },
     "execution_count": 5,
     "metadata": {},
     "output_type": "execute_result"
    }
   ],
   "source": [
    "s = requests.Session()\n",
    "r = s.get(url,timeout=10)\n",
    "r"
   ]
  },
  {
   "cell_type": "code",
   "execution_count": 6,
   "id": "422b6090",
   "metadata": {},
   "outputs": [],
   "source": [
    "c = r.content"
   ]
  },
  {
   "cell_type": "code",
   "execution_count": 8,
   "id": "196bae55",
   "metadata": {},
   "outputs": [],
   "source": [
    "soup = BeautifulSoup(c, 'html.parser')"
   ]
  },
  {
   "cell_type": "code",
   "execution_count": 167,
   "id": "35b850d9",
   "metadata": {},
   "outputs": [
    {
     "name": "stdout",
     "output_type": "stream",
     "text": [
      "https://www.privateproperty.com.ng/property-for-rent?search=Ibadan+%2C+Oyo&auto=&ptype=&bedroom=&min_price=&max_price=1\n",
      "https://www.privateproperty.com.ng/property-for-rent?search=Ibadan+%2C+Oyo&auto=&ptype=&bedroom=&min_price=&max_price=2\n"
     ]
    }
   ],
   "source": [
    "scraped=[]\n",
    "\n",
    "base_url='https://www.propertypro.ng/property-for-rent/in/oyo/ibadan?search=&auto=&type=&bedroom=&min_price=&max_price=&page='\n",
    "\n",
    "for page in range(1,74):\n",
    "    print(base_url+str(page))\n",
    "    r= requests.get(base_url+str(page))\n",
    "    c= r.content\n",
    "    soup= BeautifulSoup(c,\"html.parser\")\n",
    "        \n",
    "    classes = [\"single-room-sale listings-property\"]\n",
    "    for class_ in classes:\n",
    "        real=soup.find_all(\"div\",{\"class\":class_})\n",
    "\n",
    "        for i in list(range(0,len(real))):\n",
    "            d={}\n",
    "            d[\"page\" ] = page\n",
    "            try:\n",
    "                d[\"title\"]=real[i].find('h3', {'class':'listings-property-title2'}).get_text().strip()\n",
    "            except (IndexError,TypeError,AttributeError) as e:\n",
    "                d[\"title\"]= None\n",
    "            try:\n",
    "                d[\"description\"]=real[i].find('p', {'class':'d-none d-sm-block'}).get_text().strip()\n",
    "            except (IndexError,TypeError,AttributeError) as e:\n",
    "                d[\"description\"]= None  \n",
    "            try:\n",
    "                d[\"condition\"]=real[i].find('div', {'class':'furnished-btn'}).get_text().strip()\n",
    "            except (IndexError,TypeError,AttributeError) as e:\n",
    "                d[\"condition\"]= None\n",
    "            try:\n",
    "                d[\"rooms\"]=real[i].find('div', {'class':'fur-areea'}).get_text().strip()\n",
    "            except (IndexError,TypeError,AttributeError) as e:\n",
    "                d[\"rooms\"]= None    \n",
    "            try:\n",
    "                d[\"address\"]= re.findall(r'(.*?)Ibadan',real[i].find('h4', None).get_text())\n",
    "            except (IndexError,TypeError,AttributeError) as e:\n",
    "                d[\"address\"]= None\n",
    "            try:\n",
    "                d[\"price\"]=real[i].find('h3', {'class':'listings-price'}).get_text().strip()\n",
    "            except (IndexError,TypeError,AttributeError) as e:\n",
    "                d[\"price\"]= None  \n",
    "            scraped.append(d)\n",
    "            #print(l)"
   ]
  },
  {
   "cell_type": "code",
   "execution_count": 168,
   "id": "4b31a1b3",
   "metadata": {},
   "outputs": [],
   "source": [
    "df = pd.DataFrame(scraped) \n",
    "df"
   ]
  },
  {
   "cell_type": "code",
   "execution_count": 166,
   "id": "55d4b58a",
   "metadata": {},
   "outputs": [],
   "source": [
    "df.to_csv('propertypro.csv')"
   ]
  },
  {
   "cell_type": "code",
   "execution_count": null,
   "id": "df011c38",
   "metadata": {},
   "outputs": [],
   "source": []
  }
 ],
 "metadata": {
  "kernelspec": {
   "display_name": "Python 3.9.12 ('base')",
   "language": "python",
   "name": "python3"
  },
  "language_info": {
   "codemirror_mode": {
    "name": "ipython",
    "version": 3
   },
   "file_extension": ".py",
   "mimetype": "text/x-python",
   "name": "python",
   "nbconvert_exporter": "python",
   "pygments_lexer": "ipython3",
   "version": "3.9.12"
  },
  "vscode": {
   "interpreter": {
    "hash": "dc07d24e2f18896857f0b2a651fe84ba40ce7b297e58d8804a308c8039f752a6"
   }
  }
 },
 "nbformat": 4,
 "nbformat_minor": 5
}
